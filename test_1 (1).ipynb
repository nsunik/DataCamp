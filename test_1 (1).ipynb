{
 "cells": [
  {
   "cell_type": "code",
   "execution_count": 1,
   "metadata": {},
   "outputs": [],
   "source": [
    "#importing libraries\n",
    "import numpy as np\n",
    "import pandas as pd\n",
    "import matplotlib.pyplot as plt\n",
    "import time\n",
    "%matplotlib inline\n",
    "import seaborn as sns\n",
    "df=pd.read_csv(r'C:\\Users\\DELL\\Downloads\\2015-building-energy-benchmarking.csv')\n",
    "#predict the emissions of buildings whose emissions have not yet been measured."
   ]
  },
  {
   "cell_type": "code",
   "execution_count": 2,
   "metadata": {},
   "outputs": [
    {
     "data": {
      "text/html": [
       "<div>\n",
       "<style scoped>\n",
       "    .dataframe tbody tr th:only-of-type {\n",
       "        vertical-align: middle;\n",
       "    }\n",
       "\n",
       "    .dataframe tbody tr th {\n",
       "        vertical-align: top;\n",
       "    }\n",
       "\n",
       "    .dataframe thead th {\n",
       "        text-align: right;\n",
       "    }\n",
       "</style>\n",
       "<table border=\"1\" class=\"dataframe\">\n",
       "  <thead>\n",
       "    <tr style=\"text-align: right;\">\n",
       "      <th></th>\n",
       "      <th>OSEBuildingID</th>\n",
       "      <th>DataYear</th>\n",
       "      <th>BuildingType</th>\n",
       "      <th>PrimaryPropertyType</th>\n",
       "      <th>PropertyName</th>\n",
       "      <th>TaxParcelIdentificationNumber</th>\n",
       "      <th>Location</th>\n",
       "      <th>CouncilDistrictCode</th>\n",
       "      <th>Neighborhood</th>\n",
       "      <th>YearBuilt</th>\n",
       "      <th>...</th>\n",
       "      <th>GHGEmissionsIntensity(kgCO2e/ft2)</th>\n",
       "      <th>DefaultData</th>\n",
       "      <th>Comment</th>\n",
       "      <th>ComplianceStatus</th>\n",
       "      <th>Outlier</th>\n",
       "      <th>2010 Census Tracts</th>\n",
       "      <th>Seattle Police Department Micro Community Policing Plan Areas</th>\n",
       "      <th>City Council Districts</th>\n",
       "      <th>SPD Beats</th>\n",
       "      <th>Zip Codes</th>\n",
       "    </tr>\n",
       "  </thead>\n",
       "  <tbody>\n",
       "    <tr>\n",
       "      <th>0</th>\n",
       "      <td>1</td>\n",
       "      <td>2015</td>\n",
       "      <td>NonResidential</td>\n",
       "      <td>Hotel</td>\n",
       "      <td>MAYFLOWER PARK HOTEL</td>\n",
       "      <td>659000030</td>\n",
       "      <td>{'latitude': '47.61219025', 'longitude': '-122...</td>\n",
       "      <td>7</td>\n",
       "      <td>DOWNTOWN</td>\n",
       "      <td>1927</td>\n",
       "      <td>...</td>\n",
       "      <td>2.64</td>\n",
       "      <td>No</td>\n",
       "      <td>NaN</td>\n",
       "      <td>Compliant</td>\n",
       "      <td>NaN</td>\n",
       "      <td>NaN</td>\n",
       "      <td>14.0</td>\n",
       "      <td>NaN</td>\n",
       "      <td>31.0</td>\n",
       "      <td>18081</td>\n",
       "    </tr>\n",
       "    <tr>\n",
       "      <th>1</th>\n",
       "      <td>2</td>\n",
       "      <td>2015</td>\n",
       "      <td>NonResidential</td>\n",
       "      <td>Hotel</td>\n",
       "      <td>PARAMOUNT HOTEL</td>\n",
       "      <td>659000220</td>\n",
       "      <td>{'latitude': '47.61310583', 'longitude': '-122...</td>\n",
       "      <td>7</td>\n",
       "      <td>DOWNTOWN</td>\n",
       "      <td>1996</td>\n",
       "      <td>...</td>\n",
       "      <td>2.38</td>\n",
       "      <td>No</td>\n",
       "      <td>NaN</td>\n",
       "      <td>Compliant</td>\n",
       "      <td>NaN</td>\n",
       "      <td>NaN</td>\n",
       "      <td>14.0</td>\n",
       "      <td>NaN</td>\n",
       "      <td>31.0</td>\n",
       "      <td>18081</td>\n",
       "    </tr>\n",
       "    <tr>\n",
       "      <th>2</th>\n",
       "      <td>3</td>\n",
       "      <td>2015</td>\n",
       "      <td>NonResidential</td>\n",
       "      <td>Hotel</td>\n",
       "      <td>WESTIN HOTEL</td>\n",
       "      <td>659000475</td>\n",
       "      <td>{'latitude': '47.61334897', 'longitude': '-122...</td>\n",
       "      <td>7</td>\n",
       "      <td>DOWNTOWN</td>\n",
       "      <td>1969</td>\n",
       "      <td>...</td>\n",
       "      <td>1.92</td>\n",
       "      <td>Yes</td>\n",
       "      <td>NaN</td>\n",
       "      <td>Compliant</td>\n",
       "      <td>NaN</td>\n",
       "      <td>NaN</td>\n",
       "      <td>56.0</td>\n",
       "      <td>NaN</td>\n",
       "      <td>31.0</td>\n",
       "      <td>18081</td>\n",
       "    </tr>\n",
       "    <tr>\n",
       "      <th>3</th>\n",
       "      <td>5</td>\n",
       "      <td>2015</td>\n",
       "      <td>NonResidential</td>\n",
       "      <td>Hotel</td>\n",
       "      <td>HOTEL MAX</td>\n",
       "      <td>659000640</td>\n",
       "      <td>{'latitude': '47.61421585', 'longitude': '-122...</td>\n",
       "      <td>7</td>\n",
       "      <td>DOWNTOWN</td>\n",
       "      <td>1926</td>\n",
       "      <td>...</td>\n",
       "      <td>31.38</td>\n",
       "      <td>No</td>\n",
       "      <td>NaN</td>\n",
       "      <td>Compliant</td>\n",
       "      <td>High Outlier</td>\n",
       "      <td>NaN</td>\n",
       "      <td>56.0</td>\n",
       "      <td>NaN</td>\n",
       "      <td>31.0</td>\n",
       "      <td>18081</td>\n",
       "    </tr>\n",
       "    <tr>\n",
       "      <th>4</th>\n",
       "      <td>8</td>\n",
       "      <td>2015</td>\n",
       "      <td>NonResidential</td>\n",
       "      <td>Hotel</td>\n",
       "      <td>WARWICK SEATTLE HOTEL</td>\n",
       "      <td>659000970</td>\n",
       "      <td>{'latitude': '47.6137544', 'longitude': '-122....</td>\n",
       "      <td>7</td>\n",
       "      <td>DOWNTOWN</td>\n",
       "      <td>1980</td>\n",
       "      <td>...</td>\n",
       "      <td>4.02</td>\n",
       "      <td>No</td>\n",
       "      <td>NaN</td>\n",
       "      <td>Compliant</td>\n",
       "      <td>NaN</td>\n",
       "      <td>NaN</td>\n",
       "      <td>56.0</td>\n",
       "      <td>NaN</td>\n",
       "      <td>31.0</td>\n",
       "      <td>19576</td>\n",
       "    </tr>\n",
       "  </tbody>\n",
       "</table>\n",
       "<p>5 rows × 47 columns</p>\n",
       "</div>"
      ],
      "text/plain": [
       "   OSEBuildingID  DataYear    BuildingType PrimaryPropertyType  \\\n",
       "0              1      2015  NonResidential               Hotel   \n",
       "1              2      2015  NonResidential               Hotel   \n",
       "2              3      2015  NonResidential               Hotel   \n",
       "3              5      2015  NonResidential               Hotel   \n",
       "4              8      2015  NonResidential               Hotel   \n",
       "\n",
       "            PropertyName TaxParcelIdentificationNumber  \\\n",
       "0   MAYFLOWER PARK HOTEL                     659000030   \n",
       "1        PARAMOUNT HOTEL                     659000220   \n",
       "2           WESTIN HOTEL                     659000475   \n",
       "3              HOTEL MAX                     659000640   \n",
       "4  WARWICK SEATTLE HOTEL                     659000970   \n",
       "\n",
       "                                            Location  CouncilDistrictCode  \\\n",
       "0  {'latitude': '47.61219025', 'longitude': '-122...                    7   \n",
       "1  {'latitude': '47.61310583', 'longitude': '-122...                    7   \n",
       "2  {'latitude': '47.61334897', 'longitude': '-122...                    7   \n",
       "3  {'latitude': '47.61421585', 'longitude': '-122...                    7   \n",
       "4  {'latitude': '47.6137544', 'longitude': '-122....                    7   \n",
       "\n",
       "  Neighborhood  YearBuilt  ...  GHGEmissionsIntensity(kgCO2e/ft2)  \\\n",
       "0     DOWNTOWN       1927  ...                               2.64   \n",
       "1     DOWNTOWN       1996  ...                               2.38   \n",
       "2     DOWNTOWN       1969  ...                               1.92   \n",
       "3     DOWNTOWN       1926  ...                              31.38   \n",
       "4     DOWNTOWN       1980  ...                               4.02   \n",
       "\n",
       "   DefaultData  Comment  ComplianceStatus       Outlier 2010 Census Tracts  \\\n",
       "0           No      NaN         Compliant           NaN                NaN   \n",
       "1           No      NaN         Compliant           NaN                NaN   \n",
       "2          Yes      NaN         Compliant           NaN                NaN   \n",
       "3           No      NaN         Compliant  High Outlier                NaN   \n",
       "4           No      NaN         Compliant           NaN                NaN   \n",
       "\n",
       "  Seattle Police Department Micro Community Policing Plan Areas  \\\n",
       "0                                               14.0              \n",
       "1                                               14.0              \n",
       "2                                               56.0              \n",
       "3                                               56.0              \n",
       "4                                               56.0              \n",
       "\n",
       "   City Council Districts SPD Beats  Zip Codes  \n",
       "0                     NaN      31.0      18081  \n",
       "1                     NaN      31.0      18081  \n",
       "2                     NaN      31.0      18081  \n",
       "3                     NaN      31.0      18081  \n",
       "4                     NaN      31.0      19576  \n",
       "\n",
       "[5 rows x 47 columns]"
      ]
     },
     "execution_count": 2,
     "metadata": {},
     "output_type": "execute_result"
    }
   ],
   "source": [
    "df.head()"
   ]
  },
  {
   "cell_type": "code",
   "execution_count": 3,
   "metadata": {},
   "outputs": [],
   "source": [
    "#sort the column\n",
    "df=df.reindex(sorted(df.columns), axis=1)"
   ]
  },
  {
   "cell_type": "code",
   "execution_count": 4,
   "metadata": {},
   "outputs": [
    {
     "name": "stdout",
     "output_type": "stream",
     "text": [
      "<class 'pandas.core.frame.DataFrame'>\n",
      "RangeIndex: 3340 entries, 0 to 3339\n",
      "Data columns (total 47 columns):\n",
      " #   Column                                                         Non-Null Count  Dtype  \n",
      "---  ------                                                         --------------  -----  \n",
      " 0   2010 Census Tracts                                             224 non-null    float64\n",
      " 1   BuildingType                                                   3340 non-null   object \n",
      " 2   City Council Districts                                         213 non-null    float64\n",
      " 3   Comment                                                        13 non-null     object \n",
      " 4   ComplianceStatus                                               3340 non-null   object \n",
      " 5   CouncilDistrictCode                                            3340 non-null   int64  \n",
      " 6   DataYear                                                       3340 non-null   int64  \n",
      " 7   DefaultData                                                    3339 non-null   object \n",
      " 8   ENERGYSTARScore                                                2560 non-null   float64\n",
      " 9   Electricity(kBtu)                                              3330 non-null   float64\n",
      " 10  Electricity(kWh)                                               3330 non-null   float64\n",
      " 11  GHGEmissions(MetricTonsCO2e)                                   3330 non-null   float64\n",
      " 12  GHGEmissionsIntensity(kgCO2e/ft2)                              3330 non-null   float64\n",
      " 13  LargestPropertyUseType                                         3204 non-null   object \n",
      " 14  LargestPropertyUseTypeGFA                                      3204 non-null   float64\n",
      " 15  ListOfAllPropertyUseTypes                                      3213 non-null   object \n",
      " 16  Location                                                       3340 non-null   object \n",
      " 17  NaturalGas(kBtu)                                               3330 non-null   float64\n",
      " 18  NaturalGas(therms)                                             3330 non-null   float64\n",
      " 19  Neighborhood                                                   3340 non-null   object \n",
      " 20  NumberofBuildings                                              3340 non-null   int64  \n",
      " 21  NumberofFloors                                                 3332 non-null   float64\n",
      " 22  OSEBuildingID                                                  3340 non-null   int64  \n",
      " 23  OtherFuelUse(kBtu)                                             3330 non-null   float64\n",
      " 24  Outlier                                                        84 non-null     object \n",
      " 25  PrimaryPropertyType                                            3340 non-null   object \n",
      " 26  PropertyGFABuilding(s)                                         3340 non-null   int64  \n",
      " 27  PropertyGFAParking                                             3340 non-null   int64  \n",
      " 28  PropertyGFATotal                                               3340 non-null   int64  \n",
      " 29  PropertyName                                                   3340 non-null   object \n",
      " 30  SPD Beats                                                      3338 non-null   float64\n",
      " 31  Seattle Police Department Micro Community Policing Plan Areas  3338 non-null   float64\n",
      " 32  SecondLargestPropertyUseType                                   1559 non-null   object \n",
      " 33  SecondLargestPropertyUseTypeGFA                                1559 non-null   float64\n",
      " 34  SiteEUI(kBtu/sf)                                               3330 non-null   float64\n",
      " 35  SiteEUIWN(kBtu/sf)                                             3330 non-null   float64\n",
      " 36  SiteEnergyUse(kBtu)                                            3330 non-null   float64\n",
      " 37  SiteEnergyUseWN(kBtu)                                          3330 non-null   float64\n",
      " 38  SourceEUI(kBtu/sf)                                             3330 non-null   float64\n",
      " 39  SourceEUIWN(kBtu/sf)                                           3330 non-null   float64\n",
      " 40  SteamUse(kBtu)                                                 3330 non-null   float64\n",
      " 41  TaxParcelIdentificationNumber                                  3338 non-null   object \n",
      " 42  ThirdLargestPropertyUseType                                    560 non-null    object \n",
      " 43  ThirdLargestPropertyUseTypeGFA                                 560 non-null    float64\n",
      " 44  YearBuilt                                                      3340 non-null   int64  \n",
      " 45  YearsENERGYSTARCertified                                       110 non-null    object \n",
      " 46  Zip Codes                                                      3340 non-null   int64  \n",
      "dtypes: float64(23), int64(9), object(15)\n",
      "memory usage: 1.2+ MB\n"
     ]
    }
   ],
   "source": [
    "df.info()"
   ]
  },
  {
   "cell_type": "code",
   "execution_count": 5,
   "metadata": {},
   "outputs": [],
   "source": [
    "df=df.fillna(df.mean())\n",
    "df =df.fillna(df.mode())\n"
   ]
  },
  {
   "cell_type": "code",
   "execution_count": 6,
   "metadata": {},
   "outputs": [
    {
     "name": "stdout",
     "output_type": "stream",
     "text": [
      "14623\n"
     ]
    }
   ],
   "source": [
    "print(df.isnull().values.sum())"
   ]
  },
  {
   "cell_type": "code",
   "execution_count": 7,
   "metadata": {},
   "outputs": [],
   "source": [
    "df=df.fillna(df.mean())"
   ]
  },
  {
   "cell_type": "code",
   "execution_count": 8,
   "metadata": {},
   "outputs": [
    {
     "name": "stdout",
     "output_type": "stream",
     "text": [
      "14623\n"
     ]
    }
   ],
   "source": [
    "print(df.isnull().values.sum())"
   ]
  },
  {
   "cell_type": "code",
   "execution_count": 9,
   "metadata": {},
   "outputs": [],
   "source": [
    "df =df.fillna(df.mode())"
   ]
  },
  {
   "cell_type": "code",
   "execution_count": 10,
   "metadata": {},
   "outputs": [
    {
     "name": "stdout",
     "output_type": "stream",
     "text": [
      "14623\n"
     ]
    }
   ],
   "source": [
    "print(df.isnull().values.sum())"
   ]
  },
  {
   "cell_type": "code",
   "execution_count": 11,
   "metadata": {},
   "outputs": [],
   "source": [
    "df_nonr=df[(df['BuildingType'] =='NonResidential') ]"
   ]
  },
  {
   "cell_type": "code",
   "execution_count": null,
   "metadata": {},
   "outputs": [],
   "source": []
  },
  {
   "cell_type": "code",
   "execution_count": 12,
   "metadata": {},
   "outputs": [
    {
     "name": "stderr",
     "output_type": "stream",
     "text": [
      "C:\\ProgramData\\Anaconda3\\lib\\site-packages\\pandas\\core\\frame.py:3990: SettingWithCopyWarning: \n",
      "A value is trying to be set on a copy of a slice from a DataFrame\n",
      "\n",
      "See the caveats in the documentation: https://pandas.pydata.org/pandas-docs/stable/user_guide/indexing.html#returning-a-view-versus-a-copy\n",
      "  return super().drop(\n"
     ]
    }
   ],
   "source": [
    "df_nonr.drop(['Comment','Outlier','SecondLargestPropertyUseType','ThirdLargestPropertyUseType','YearsENERGYSTARCertified',\n",
    "         'LargestPropertyUseType','Zip Codes','ListOfAllPropertyUseTypes','LargestPropertyUseType',\n",
    "         'TaxParcelIdentificationNumber','DefaultData',\"DataYear\",\"2010 Census Tracts\",\"City Council Districts\",\"Electricity(kWh)\",\"NaturalGas(therms)\",\"PropertyGFABuilding(s)\",\n",
    "          \"SiteEUI(kBtu/sf)\",\"SiteEnergyUse(kBtu)\",\"SourceEUI(kBtu/sf)\",\"LargestPropertyUseTypeGFA\",\"SecondLargestPropertyUseTypeGFA\",\n",
    "           \"Seattle Police Department Micro Community Policing Plan Areas\",\"NumberofFloors\",\"SiteEUIWN(kBtu/sf)\",\"PropertyGFAParking\",\n",
    "          \"DefaultData\",\"YearBuilt\",\"SPD Beats\",\"ThirdLargestPropertyUseTypeGFA\",\"NumberofBuildings\",\"OSEBuildingID\",\"CouncilDistrictCode\"] ,axis=1, inplace=True)"
   ]
  },
  {
   "cell_type": "code",
   "execution_count": 13,
   "metadata": {},
   "outputs": [
    {
     "name": "stdout",
     "output_type": "stream",
     "text": [
      "<class 'pandas.core.frame.DataFrame'>\n",
      "Int64Index: 1461 entries, 0 to 3334\n",
      "Data columns (total 16 columns):\n",
      " #   Column                             Non-Null Count  Dtype  \n",
      "---  ------                             --------------  -----  \n",
      " 0   BuildingType                       1461 non-null   object \n",
      " 1   ComplianceStatus                   1461 non-null   object \n",
      " 2   ENERGYSTARScore                    1461 non-null   float64\n",
      " 3   Electricity(kBtu)                  1461 non-null   float64\n",
      " 4   GHGEmissions(MetricTonsCO2e)       1461 non-null   float64\n",
      " 5   GHGEmissionsIntensity(kgCO2e/ft2)  1461 non-null   float64\n",
      " 6   Location                           1461 non-null   object \n",
      " 7   NaturalGas(kBtu)                   1461 non-null   float64\n",
      " 8   Neighborhood                       1461 non-null   object \n",
      " 9   OtherFuelUse(kBtu)                 1461 non-null   float64\n",
      " 10  PrimaryPropertyType                1461 non-null   object \n",
      " 11  PropertyGFATotal                   1461 non-null   int64  \n",
      " 12  PropertyName                       1461 non-null   object \n",
      " 13  SiteEnergyUseWN(kBtu)              1461 non-null   float64\n",
      " 14  SourceEUIWN(kBtu/sf)               1461 non-null   float64\n",
      " 15  SteamUse(kBtu)                     1461 non-null   float64\n",
      "dtypes: float64(9), int64(1), object(6)\n",
      "memory usage: 194.0+ KB\n"
     ]
    }
   ],
   "source": [
    "df_nonr.info()"
   ]
  },
  {
   "cell_type": "code",
   "execution_count": 14,
   "metadata": {},
   "outputs": [],
   "source": [
    "df_nonr_num=df_nonr.select_dtypes(np.number)\n",
    "df_nonr_obj=df_nonr.select_dtypes('object')"
   ]
  },
  {
   "cell_type": "code",
   "execution_count": 15,
   "metadata": {},
   "outputs": [
    {
     "name": "stdout",
     "output_type": "stream",
     "text": [
      "<class 'pandas.core.frame.DataFrame'>\n",
      "Int64Index: 1461 entries, 0 to 3334\n",
      "Data columns (total 10 columns):\n",
      " #   Column                             Non-Null Count  Dtype  \n",
      "---  ------                             --------------  -----  \n",
      " 0   ENERGYSTARScore                    1461 non-null   float64\n",
      " 1   Electricity(kBtu)                  1461 non-null   float64\n",
      " 2   GHGEmissions(MetricTonsCO2e)       1461 non-null   float64\n",
      " 3   GHGEmissionsIntensity(kgCO2e/ft2)  1461 non-null   float64\n",
      " 4   NaturalGas(kBtu)                   1461 non-null   float64\n",
      " 5   OtherFuelUse(kBtu)                 1461 non-null   float64\n",
      " 6   PropertyGFATotal                   1461 non-null   int64  \n",
      " 7   SiteEnergyUseWN(kBtu)              1461 non-null   float64\n",
      " 8   SourceEUIWN(kBtu/sf)               1461 non-null   float64\n",
      " 9   SteamUse(kBtu)                     1461 non-null   float64\n",
      "dtypes: float64(9), int64(1)\n",
      "memory usage: 125.6 KB\n"
     ]
    }
   ],
   "source": [
    "df_nonr_num.info()"
   ]
  },
  {
   "cell_type": "code",
   "execution_count": 16,
   "metadata": {},
   "outputs": [],
   "source": [
    "df_nonr_num.drop([\"ENERGYSTARScore\",\"OtherFuelUse(kBtu)\",\"PropertyGFATotal\",\"SiteEnergyUseWN(kBtu)\",\"SourceEUIWN(kBtu/sf)\",\"SteamUse(kBtu)\",\"GHGEmissionsIntensity(kgCO2e/ft2)\"], axis=1,inplace=True)"
   ]
  },
  {
   "cell_type": "code",
   "execution_count": 17,
   "metadata": {},
   "outputs": [
    {
     "name": "stdout",
     "output_type": "stream",
     "text": [
      "<class 'pandas.core.frame.DataFrame'>\n",
      "Int64Index: 1461 entries, 0 to 3334\n",
      "Data columns (total 3 columns):\n",
      " #   Column                        Non-Null Count  Dtype  \n",
      "---  ------                        --------------  -----  \n",
      " 0   Electricity(kBtu)             1461 non-null   float64\n",
      " 1   GHGEmissions(MetricTonsCO2e)  1461 non-null   float64\n",
      " 2   NaturalGas(kBtu)              1461 non-null   float64\n",
      "dtypes: float64(3)\n",
      "memory usage: 45.7 KB\n"
     ]
    }
   ],
   "source": [
    "df_nonr_num.info()"
   ]
  },
  {
   "cell_type": "code",
   "execution_count": 19,
   "metadata": {},
   "outputs": [
    {
     "name": "stdout",
     "output_type": "stream",
     "text": [
      "<class 'pandas.core.frame.DataFrame'>\n",
      "Int64Index: 1461 entries, 0 to 3334\n",
      "Data columns (total 3 columns):\n",
      " #   Column                        Non-Null Count  Dtype  \n",
      "---  ------                        --------------  -----  \n",
      " 0   Electricity(kBtu)             1461 non-null   float64\n",
      " 1   GHGEmissions(MetricTonsCO2e)  1461 non-null   float64\n",
      " 2   NaturalGas(kBtu)              1461 non-null   float64\n",
      "dtypes: float64(3)\n",
      "memory usage: 45.7 KB\n"
     ]
    }
   ],
   "source": [
    "df_nonr_num.info()"
   ]
  },
  {
   "cell_type": "code",
   "execution_count": 32,
   "metadata": {},
   "outputs": [
    {
     "data": {
      "text/plain": [
       "[<matplotlib.lines.Line2D at 0x1899872e580>]"
      ]
     },
     "execution_count": 32,
     "metadata": {},
     "output_type": "execute_result"
    },
    {
     "data": {
      "image/png": "[encoded data removed]",
      "text/plain": [
       "<Figure size 432x288 with 1 Axes>"
      ]
     },
     "metadata": {
      "needs_background": "light"
     },
     "output_type": "display_data"
    }
   ],
   "source": [
    "\n",
    "x = df_nonr_num[\"Electricity(kBtu)\"]\n",
    "y = df_nonr_num[\"GHGEmissions(MetricTonsCO2e)\"]\n",
    "plt.plot(x, y, 'o')\n",
    "#create scatter plot\n",
    "\n",
    "\n",
    "m, b = np.polyfit(x, y, 1)\n",
    "#m = slope, b=intercept\n",
    "\n",
    "\n",
    "plt.plot(x, m*x + b)"
   ]
  },
  {
   "cell_type": "code",
   "execution_count": null,
   "metadata": {},
   "outputs": [],
   "source": [
    "#Extracting Independent and dependent Variable  \n",
    "x= data_set.iloc[:, :-1].values  \n",
    "y= data_set.iloc[:, 4].values "
   ]
  },
  {
   "cell_type": "code",
   "execution_count": 37,
   "metadata": {},
   "outputs": [],
   "source": [
    "import pandas\n",
    "from sklearn import linear_model\n",
    "\n",
    "df =df_nonr_num\n",
    "\n",
    "X = df[['Electricity(kBtu)','NaturalGas(kBtu)']]\n",
    "y = df['GHGEmissions(MetricTonsCO2e)']\n",
    "\n",
    "# Splitting the dataset into training and test set.  \n",
    "from sklearn.model_selection import train_test_split  \n",
    "x_train, x_test, y_train, y_test= train_test_split(x, y, test_size= 0.2, random_state=0)  "
   ]
  },
  {
   "cell_type": "code",
   "execution_count": 38,
   "metadata": {},
   "outputs": [
    {
     "data": {
      "text/plain": [
       "LinearRegression()"
      ]
     },
     "execution_count": 38,
     "metadata": {},
     "output_type": "execute_result"
    }
   ],
   "source": [
    "#Fitting the MLR model to the training set:  \n",
    "from sklearn.linear_model import LinearRegression  \n",
    "regressor= LinearRegression()  \n",
    "regressor.fit(x_train, y_train) "
   ]
  },
  {
   "cell_type": "code",
   "execution_count": 39,
   "metadata": {},
   "outputs": [],
   "source": [
    "#Predicting the Test set result;  \n",
    "y_pred= regressor.predict(x_test) "
   ]
  },
  {
   "cell_type": "code",
   "execution_count": 40,
   "metadata": {},
   "outputs": [
    {
     "name": "stdout",
     "output_type": "stream",
     "text": [
      "Train Score:  0.835160299963501\n",
      "Test Score:  0.34709908742268203\n"
     ]
    }
   ],
   "source": [
    "print('Train Score: ', regressor.score(x_train, y_train))  \n",
    "print('Test Score: ', regressor.score(x_test, y_test))"
   ]
  },
  {
   "cell_type": "code",
   "execution_count": 35,
   "metadata": {},
   "outputs": [],
   "source": [
    "# import data\n",
    "df = df_nonr_num\n",
    "# select features \n",
    "\n",
    "#X = df[[\"horsepower\", \"highway-mpg\"]]\n",
    "x= df_nonr_num[['Electricity(kBtu)','NaturalGas(kBtu)']]\n",
    "y =df_nonr_num[\"GHGEmissions(MetricTonsCO2e)\"]"
   ]
  },
  {
   "cell_type": "code",
   "execution_count": 36,
   "metadata": {},
   "outputs": [
    {
     "data": {
      "text/plain": [
       "LinearRegression()"
      ]
     },
     "execution_count": 36,
     "metadata": {},
     "output_type": "execute_result"
    }
   ],
   "source": [
    "# instantiate model\n",
    "model = linear_model.LinearRegression()\n",
    "# fit model\n",
    "model.fit(X, y)"
   ]
  },
  {
   "cell_type": "code",
   "execution_count": null,
   "metadata": {},
   "outputs": [],
   "source": [
    "# Lets normalize our data\n",
    "xdata =x_data/max(x_data)\n",
    "ydata =y_data/max(y_data)\n",
    "df_nonr_num"
   ]
  },
  {
   "cell_type": "code",
   "execution_count": null,
   "metadata": {},
   "outputs": [],
   "source": [
    "# General imports\n",
    "import numpy as np\n",
    "import pandas as pd\n",
    "import matplotlib.pyplot as plt\n",
    "\n",
    "# Generating data\n",
    "X = np.random.randn(100,1)\n",
    "c = np.random.uniform(-10,10,(100,))\n",
    "# adding another linear column\n",
    "X = np.hstack((X, 4*X))\n",
    "\n",
    "Y = (4*X[:,1] + c)\n",
    "\n",
    "plt.scatter(X[:, 0], Y)\n",
    "plt.show()\n",
    "plt.scatter(X[:, 1], Y)\n",
    "plt.show()\n",
    "# Applying linear reg\n",
    "from sklearn.linear_model import LinearRegression\n",
    "regressor = LinearRegression().fit(X, Y)\n",
    "# Checking the accuracy\n",
    "from sklearn.metrics import r2_score\n",
    "print(r2_score(regressor.predict(X), Y))"
   ]
  },
  {
   "cell_type": "code",
   "execution_count": null,
   "metadata": {},
   "outputs": [],
   "source": []
  },
  {
   "cell_type": "code",
   "execution_count": null,
   "metadata": {},
   "outputs": [],
   "source": []
  }
 ],
 "metadata": {
  "kernelspec": {
   "display_name": "Python 3",
   "language": "python",
   "name": "python3"
  },
  "language_info": {
   "codemirror_mode": {
    "name": "ipython",
    "version": 3
   },
   "file_extension": ".py",
   "mimetype": "text/x-python",
   "name": "python",
   "nbconvert_exporter": "python",
   "pygments_lexer": "ipython3",
   "version": "3.8.3"
  }
 },
 "nbformat": 4,
 "nbformat_minor": 4
}
